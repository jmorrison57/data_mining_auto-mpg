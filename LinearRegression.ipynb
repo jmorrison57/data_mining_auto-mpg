{
 "cells": [
  {
   "cell_type": "markdown",
   "metadata": {},
   "source": [
    "# Auto MPG"
   ]
  },
  {
   "cell_type": "markdown",
   "metadata": {},
   "source": [
    "# NJIT"
   ]
  },
  {
   "cell_type": "markdown",
   "metadata": {},
   "source": [
    "John Morrison  \n",
    "Joseph Bennett"
   ]
  },
  {
   "cell_type": "markdown",
   "metadata": {},
   "source": [
    "## Introduction"
   ]
  },
  {
   "cell_type": "markdown",
   "metadata": {},
   "source": [
    "The goal of this project is to estimate the miles per gallon (mpg) of the different types of cars given a set of other attributes of the car, for example, the number of cylinders in the engine, the weight of the car, the model year, etc..."
   ]
  },
  {
   "cell_type": "markdown",
   "metadata": {},
   "source": [
    "* The data set is maintained by Carniege Mellon and can be downloaded from [UCI Machine Learning](https://archive.ics.uci.edu/ml/datasets/auto+mpg).\n",
    "* The methods for generating the models were found at [SciLearn](https://scikit-learn.org/stable/modules/linear_model.html).\n",
    "* The rationale for using Kernel Ridge Regression was found from [SciLearn: Kernel Ridge Regression](https://scikit-learn.org/stable/modules/kernel_ridge.html#kernel-ridge-regression)."
   ]
  },
  {
   "cell_type": "markdown",
   "metadata": {},
   "source": [
    "We want to predict a numerical value for the miles per gallon (mpg) therefore the models we use will be linear and non-linear regression models:\n",
    "1. Ordinary Least Squares model (linear),\n",
    "2. Kernel Ridge Regression model (non-linear),\n",
    "3. Support Vector Regression model (linear, and two non-linear kernels).  \n",
    "\n",
    "We use the `GridSearchCV` function to determine the most optimal parameter sets to run each of the models. Then use the results to build our model using the data now split into a training and testing set. Because these are regression models, we use `R-squared` and `Mean Squared Error` to determine model performance. "
   ]
  },
  {
   "cell_type": "markdown",
   "metadata": {},
   "source": [
    "## Necessary Libraries"
   ]
  },
  {
   "cell_type": "code",
   "execution_count": 34,
   "metadata": {
    "collapsed": true
   },
   "outputs": [],
   "source": [
    "import pandas as pd\n",
    "import numpy as np\n",
    "import matplotlib.pyplot as plt\n",
    "from sklearn.linear_model import LinearRegression\n",
    "from sklearn.kernel_ridge import KernelRidge\n",
    "from sklearn.svm import SVR\n",
    "from sklearn.metrics import mean_squared_error, r2_score, classification_report\n",
    "from sklearn.model_selection import learning_curve, GridSearchCV\n",
    "from sklearn.model_selection import cross_val_score\n",
    "from sklearn.model_selection import train_test_split\n",
    "from sklearn.preprocessing import Normalizer\n",
    "import matplotlib.pyplot as plt"
   ]
  },
  {
   "cell_type": "markdown",
   "metadata": {},
   "source": [
    "## Read the Dataset"
   ]
  },
  {
   "cell_type": "code",
   "execution_count": 35,
   "metadata": {},
   "outputs": [
    {
     "data": {
      "text/html": [
       "<div>\n",
       "<style>\n",
       "    .dataframe thead tr:only-child th {\n",
       "        text-align: right;\n",
       "    }\n",
       "\n",
       "    .dataframe thead th {\n",
       "        text-align: left;\n",
       "    }\n",
       "\n",
       "    .dataframe tbody tr th {\n",
       "        vertical-align: top;\n",
       "    }\n",
       "</style>\n",
       "<table border=\"1\" class=\"dataframe\">\n",
       "  <thead>\n",
       "    <tr style=\"text-align: right;\">\n",
       "      <th></th>\n",
       "      <th>mpg</th>\n",
       "      <th>cylinders</th>\n",
       "      <th>displacement</th>\n",
       "      <th>horsepower</th>\n",
       "      <th>weight</th>\n",
       "      <th>acceleration</th>\n",
       "      <th>model_year</th>\n",
       "      <th>origin</th>\n",
       "      <th>car_name</th>\n",
       "    </tr>\n",
       "  </thead>\n",
       "  <tbody>\n",
       "    <tr>\n",
       "      <th>0</th>\n",
       "      <td>18.0</td>\n",
       "      <td>8</td>\n",
       "      <td>307.0</td>\n",
       "      <td>130.0</td>\n",
       "      <td>3504.0</td>\n",
       "      <td>12.0</td>\n",
       "      <td>70</td>\n",
       "      <td>1</td>\n",
       "      <td>chevrolet chevelle malibu</td>\n",
       "    </tr>\n",
       "    <tr>\n",
       "      <th>1</th>\n",
       "      <td>15.0</td>\n",
       "      <td>8</td>\n",
       "      <td>350.0</td>\n",
       "      <td>165.0</td>\n",
       "      <td>3693.0</td>\n",
       "      <td>11.5</td>\n",
       "      <td>70</td>\n",
       "      <td>1</td>\n",
       "      <td>buick skylark 320</td>\n",
       "    </tr>\n",
       "    <tr>\n",
       "      <th>2</th>\n",
       "      <td>18.0</td>\n",
       "      <td>8</td>\n",
       "      <td>318.0</td>\n",
       "      <td>150.0</td>\n",
       "      <td>3436.0</td>\n",
       "      <td>11.0</td>\n",
       "      <td>70</td>\n",
       "      <td>1</td>\n",
       "      <td>plymouth satellite</td>\n",
       "    </tr>\n",
       "    <tr>\n",
       "      <th>3</th>\n",
       "      <td>16.0</td>\n",
       "      <td>8</td>\n",
       "      <td>304.0</td>\n",
       "      <td>150.0</td>\n",
       "      <td>3433.0</td>\n",
       "      <td>12.0</td>\n",
       "      <td>70</td>\n",
       "      <td>1</td>\n",
       "      <td>amc rebel sst</td>\n",
       "    </tr>\n",
       "    <tr>\n",
       "      <th>4</th>\n",
       "      <td>17.0</td>\n",
       "      <td>8</td>\n",
       "      <td>302.0</td>\n",
       "      <td>140.0</td>\n",
       "      <td>3449.0</td>\n",
       "      <td>10.5</td>\n",
       "      <td>70</td>\n",
       "      <td>1</td>\n",
       "      <td>ford torino</td>\n",
       "    </tr>\n",
       "  </tbody>\n",
       "</table>\n",
       "</div>"
      ],
      "text/plain": [
       "    mpg  cylinders  displacement horsepower  weight  acceleration  model_year  \\\n",
       "0  18.0          8         307.0      130.0  3504.0          12.0          70   \n",
       "1  15.0          8         350.0      165.0  3693.0          11.5          70   \n",
       "2  18.0          8         318.0      150.0  3436.0          11.0          70   \n",
       "3  16.0          8         304.0      150.0  3433.0          12.0          70   \n",
       "4  17.0          8         302.0      140.0  3449.0          10.5          70   \n",
       "\n",
       "   origin                   car_name  \n",
       "0       1  chevrolet chevelle malibu  \n",
       "1       1          buick skylark 320  \n",
       "2       1         plymouth satellite  \n",
       "3       1              amc rebel sst  \n",
       "4       1                ford torino  "
      ]
     },
     "execution_count": 35,
     "metadata": {},
     "output_type": "execute_result"
    }
   ],
   "source": [
    "data = pd.read_csv('auto-mpg.data', sep='\\s+')\n",
    "data.head()"
   ]
  },
  {
   "cell_type": "markdown",
   "metadata": {},
   "source": [
    "## Data Preprocessing"
   ]
  },
  {
   "cell_type": "markdown",
   "metadata": {},
   "source": [
    "The data is not clean. Some of the values of horsepower are not known and marked with '?' to indicate this."
   ]
  },
  {
   "cell_type": "code",
   "execution_count": 36,
   "metadata": {},
   "outputs": [
    {
     "data": {
      "text/html": [
       "<div>\n",
       "<style>\n",
       "    .dataframe thead tr:only-child th {\n",
       "        text-align: right;\n",
       "    }\n",
       "\n",
       "    .dataframe thead th {\n",
       "        text-align: left;\n",
       "    }\n",
       "\n",
       "    .dataframe tbody tr th {\n",
       "        vertical-align: top;\n",
       "    }\n",
       "</style>\n",
       "<table border=\"1\" class=\"dataframe\">\n",
       "  <thead>\n",
       "    <tr style=\"text-align: right;\">\n",
       "      <th></th>\n",
       "      <th>mpg</th>\n",
       "      <th>cylinders</th>\n",
       "      <th>displacement</th>\n",
       "      <th>horsepower</th>\n",
       "      <th>weight</th>\n",
       "      <th>acceleration</th>\n",
       "      <th>model_year</th>\n",
       "      <th>origin</th>\n",
       "      <th>car_name</th>\n",
       "    </tr>\n",
       "  </thead>\n",
       "  <tbody>\n",
       "    <tr>\n",
       "      <th>32</th>\n",
       "      <td>25.0</td>\n",
       "      <td>4.0</td>\n",
       "      <td>98.0</td>\n",
       "      <td>?</td>\n",
       "      <td>2046.0</td>\n",
       "      <td>19.0</td>\n",
       "      <td>71.0</td>\n",
       "      <td>1.0</td>\n",
       "      <td>ford pinto</td>\n",
       "    </tr>\n",
       "    <tr>\n",
       "      <th>126</th>\n",
       "      <td>21.0</td>\n",
       "      <td>6.0</td>\n",
       "      <td>200.0</td>\n",
       "      <td>?</td>\n",
       "      <td>2875.0</td>\n",
       "      <td>17.0</td>\n",
       "      <td>74.0</td>\n",
       "      <td>1.0</td>\n",
       "      <td>ford maverick</td>\n",
       "    </tr>\n",
       "    <tr>\n",
       "      <th>330</th>\n",
       "      <td>40.9</td>\n",
       "      <td>4.0</td>\n",
       "      <td>85.0</td>\n",
       "      <td>?</td>\n",
       "      <td>1835.0</td>\n",
       "      <td>17.3</td>\n",
       "      <td>80.0</td>\n",
       "      <td>2.0</td>\n",
       "      <td>renault lecar deluxe</td>\n",
       "    </tr>\n",
       "    <tr>\n",
       "      <th>336</th>\n",
       "      <td>23.6</td>\n",
       "      <td>4.0</td>\n",
       "      <td>140.0</td>\n",
       "      <td>?</td>\n",
       "      <td>2905.0</td>\n",
       "      <td>14.3</td>\n",
       "      <td>80.0</td>\n",
       "      <td>1.0</td>\n",
       "      <td>ford mustang cobra</td>\n",
       "    </tr>\n",
       "    <tr>\n",
       "      <th>354</th>\n",
       "      <td>34.5</td>\n",
       "      <td>4.0</td>\n",
       "      <td>100.0</td>\n",
       "      <td>?</td>\n",
       "      <td>2320.0</td>\n",
       "      <td>15.8</td>\n",
       "      <td>81.0</td>\n",
       "      <td>2.0</td>\n",
       "      <td>renault 18i</td>\n",
       "    </tr>\n",
       "    <tr>\n",
       "      <th>374</th>\n",
       "      <td>23.0</td>\n",
       "      <td>4.0</td>\n",
       "      <td>151.0</td>\n",
       "      <td>?</td>\n",
       "      <td>3035.0</td>\n",
       "      <td>20.5</td>\n",
       "      <td>82.0</td>\n",
       "      <td>1.0</td>\n",
       "      <td>amc concord dl</td>\n",
       "    </tr>\n",
       "  </tbody>\n",
       "</table>\n",
       "</div>"
      ],
      "text/plain": [
       "      mpg  cylinders  displacement horsepower  weight  acceleration  \\\n",
       "32   25.0        4.0          98.0          ?  2046.0          19.0   \n",
       "126  21.0        6.0         200.0          ?  2875.0          17.0   \n",
       "330  40.9        4.0          85.0          ?  1835.0          17.3   \n",
       "336  23.6        4.0         140.0          ?  2905.0          14.3   \n",
       "354  34.5        4.0         100.0          ?  2320.0          15.8   \n",
       "374  23.0        4.0         151.0          ?  3035.0          20.5   \n",
       "\n",
       "     model_year  origin              car_name  \n",
       "32         71.0     1.0            ford pinto  \n",
       "126        74.0     1.0         ford maverick  \n",
       "330        80.0     2.0  renault lecar deluxe  \n",
       "336        80.0     1.0    ford mustang cobra  \n",
       "354        81.0     2.0           renault 18i  \n",
       "374        82.0     1.0        amc concord dl  "
      ]
     },
     "execution_count": 36,
     "metadata": {},
     "output_type": "execute_result"
    }
   ],
   "source": [
    "data.where(data['horsepower'] == '?').dropna()"
   ]
  },
  {
   "cell_type": "code",
   "execution_count": 37,
   "metadata": {},
   "outputs": [
    {
     "data": {
      "text/plain": [
       "mpg             float64\n",
       "cylinders         int64\n",
       "displacement    float64\n",
       "horsepower       object\n",
       "weight          float64\n",
       "acceleration    float64\n",
       "model_year        int64\n",
       "origin            int64\n",
       "car_name         object\n",
       "dtype: object"
      ]
     },
     "execution_count": 37,
     "metadata": {},
     "output_type": "execute_result"
    }
   ],
   "source": [
    "data.dtypes"
   ]
  },
  {
   "cell_type": "markdown",
   "metadata": {},
   "source": [
    "We will drop this data because the horsepower variable is important in determining the mpg target variable. We will also need to convert the horsepower variable to a numeric type becuase, when it was loaded it was automatically converted to an 'object' type."
   ]
  },
  {
   "cell_type": "code",
   "execution_count": 38,
   "metadata": {
    "collapsed": true
   },
   "outputs": [],
   "source": [
    "data = data[data['horsepower'] != '?']\n",
    "data['horsepower'] = pd.to_numeric(data['horsepower'])"
   ]
  },
  {
   "cell_type": "code",
   "execution_count": 39,
   "metadata": {},
   "outputs": [
    {
     "data": {
      "text/plain": [
       "(392, 9)"
      ]
     },
     "execution_count": 39,
     "metadata": {},
     "output_type": "execute_result"
    }
   ],
   "source": [
    "data.shape"
   ]
  },
  {
   "cell_type": "code",
   "execution_count": 40,
   "metadata": {},
   "outputs": [
    {
     "data": {
      "text/plain": [
       "mpg             float64\n",
       "cylinders         int64\n",
       "displacement    float64\n",
       "horsepower      float64\n",
       "weight          float64\n",
       "acceleration    float64\n",
       "model_year        int64\n",
       "origin            int64\n",
       "car_name         object\n",
       "dtype: object"
      ]
     },
     "execution_count": 40,
     "metadata": {},
     "output_type": "execute_result"
    }
   ],
   "source": [
    "data.dtypes"
   ]
  },
  {
   "cell_type": "markdown",
   "metadata": {},
   "source": [
    "Drop the car name, this is not used in the regression analysis."
   ]
  },
  {
   "cell_type": "code",
   "execution_count": 41,
   "metadata": {
    "collapsed": true
   },
   "outputs": [],
   "source": [
    "data = data.drop(['car_name'], axis=1)"
   ]
  },
  {
   "cell_type": "markdown",
   "metadata": {},
   "source": [
    "### Train Test Split and Cross Validation"
   ]
  },
  {
   "cell_type": "markdown",
   "metadata": {},
   "source": [
    "We split the data into two forms. The first form is used for cross validation of various models using sklearn's `GridSearchCV` function in order to determine the best parameters to use."
   ]
  },
  {
   "cell_type": "code",
   "execution_count": 42,
   "metadata": {
    "collapsed": true
   },
   "outputs": [],
   "source": [
    "cross_X = data.drop(['mpg'], axis=1)\n",
    "cross_y = pd.DataFrame(data, columns=['mpg'])"
   ]
  },
  {
   "cell_type": "markdown",
   "metadata": {},
   "source": [
    "The next data set below, is used to train the selected model and test before deployment."
   ]
  },
  {
   "cell_type": "code",
   "execution_count": 43,
   "metadata": {
    "collapsed": true
   },
   "outputs": [],
   "source": [
    "X_train, X_test, y_train, y_test = train_test_split(\n",
    "    data.drop(['mpg'], axis=1), pd.DataFrame(data, columns=['mpg']), \n",
    "    test_size=0.10, random_state=42)"
   ]
  },
  {
   "cell_type": "markdown",
   "metadata": {},
   "source": [
    "### Data Normalization"
   ]
  },
  {
   "cell_type": "code",
   "execution_count": 44,
   "metadata": {},
   "outputs": [
    {
     "name": "stdout",
     "output_type": "stream",
     "text": [
      "     cylinders  displacement  horsepower    weight  acceleration  model_year  \\\n",
      "73         1.0      0.615584    0.456522  0.704565      0.357143    0.166667   \n",
      "147        0.2      0.051948    0.157609  0.140346      0.446429    0.333333   \n",
      "375        0.2      0.090909    0.152174  0.104054      0.434524    1.000000   \n",
      "143        0.2      0.070130    0.173913  0.194783      0.386905    0.333333   \n",
      "159        1.0      0.729870    0.554348  0.863056      0.327381    0.416667   \n",
      "\n",
      "     origin  \n",
      "73      0.0  \n",
      "147     0.5  \n",
      "375     0.5  \n",
      "143     0.5  \n",
      "159     0.0  \n"
     ]
    },
    {
     "data": {
      "text/plain": [
       "array([[ 0.00194543,  0.07465588,  0.03161324, ...,  0.0034045 ,\n",
       "         0.01750887,  0.00024318],\n",
       "       [ 0.00189339,  0.04260131,  0.03550109, ...,  0.00733689,\n",
       "         0.03502775,  0.0009467 ],\n",
       "       [ 0.00201418,  0.05287221,  0.03726232, ...,  0.00770424,\n",
       "         0.04129068,  0.00100709],\n",
       "       ..., \n",
       "       [ 0.00139793,  0.05277185,  0.02970601, ...,  0.00615089,\n",
       "         0.02725963,  0.00034948],\n",
       "       [ 0.00167759,  0.04110095,  0.02726083, ...,  0.00868153,\n",
       "         0.03397119,  0.0004194 ],\n",
       "       [ 0.00159496,  0.07974824,  0.02990559, ...,  0.00279119,\n",
       "         0.01455405,  0.00019937]])"
      ]
     },
     "execution_count": 44,
     "metadata": {},
     "output_type": "execute_result"
    }
   ],
   "source": [
    "min_train = X_train.min(axis=0)\n",
    "max_train = X_train.max(axis=0)\n",
    "\n",
    "range_train = (X_train - min_train).max(axis=0)\n",
    "range_train_new = max_train-min_train\n",
    "\n",
    "X_train_scaled = (X_train - min_train)/range_train\n",
    "X_test_scaled = (X_test - min_train)/range_train\n",
    "print(X_train_scaled.head())\n",
    "transformer = Normalizer().fit(X_train)\n",
    "transformer.transform(X_train)"
   ]
  },
  {
   "cell_type": "code",
   "execution_count": 45,
   "metadata": {},
   "outputs": [
    {
     "data": {
      "image/png": "[encoded data removed]",
      "text/plain": [
       "<matplotlib.figure.Figure at 0x87020cb898>"
      ]
     },
     "metadata": {},
     "output_type": "display_data"
    }
   ],
   "source": [
    "plt.scatter(X_train_scaled['horsepower'],y_train)\n",
    "plt.title('Horse Power')\n",
    "plt.xlabel('horsepower')\n",
    "plt.ylabel('mpg')\n",
    "plt.show()"
   ]
  },
  {
   "cell_type": "markdown",
   "metadata": {},
   "source": [
    "### Independent "
   ]
  },
  {
   "cell_type": "code",
   "execution_count": 46,
   "metadata": {},
   "outputs": [
    {
     "data": {
      "text/html": [
       "<div>\n",
       "<style>\n",
       "    .dataframe thead tr:only-child th {\n",
       "        text-align: right;\n",
       "    }\n",
       "\n",
       "    .dataframe thead th {\n",
       "        text-align: left;\n",
       "    }\n",
       "\n",
       "    .dataframe tbody tr th {\n",
       "        vertical-align: top;\n",
       "    }\n",
       "</style>\n",
       "<table border=\"1\" class=\"dataframe\">\n",
       "  <thead>\n",
       "    <tr style=\"text-align: right;\">\n",
       "      <th></th>\n",
       "      <th>cylinders</th>\n",
       "      <th>displacement</th>\n",
       "      <th>horsepower</th>\n",
       "      <th>weight</th>\n",
       "      <th>acceleration</th>\n",
       "      <th>model_year</th>\n",
       "      <th>origin</th>\n",
       "    </tr>\n",
       "  </thead>\n",
       "  <tbody>\n",
       "    <tr>\n",
       "      <th>73</th>\n",
       "      <td>1.0</td>\n",
       "      <td>0.615584</td>\n",
       "      <td>0.456522</td>\n",
       "      <td>0.704565</td>\n",
       "      <td>0.357143</td>\n",
       "      <td>0.166667</td>\n",
       "      <td>0.0</td>\n",
       "    </tr>\n",
       "    <tr>\n",
       "      <th>147</th>\n",
       "      <td>0.2</td>\n",
       "      <td>0.051948</td>\n",
       "      <td>0.157609</td>\n",
       "      <td>0.140346</td>\n",
       "      <td>0.446429</td>\n",
       "      <td>0.333333</td>\n",
       "      <td>0.5</td>\n",
       "    </tr>\n",
       "    <tr>\n",
       "      <th>375</th>\n",
       "      <td>0.2</td>\n",
       "      <td>0.090909</td>\n",
       "      <td>0.152174</td>\n",
       "      <td>0.104054</td>\n",
       "      <td>0.434524</td>\n",
       "      <td>1.000000</td>\n",
       "      <td>0.5</td>\n",
       "    </tr>\n",
       "    <tr>\n",
       "      <th>143</th>\n",
       "      <td>0.2</td>\n",
       "      <td>0.070130</td>\n",
       "      <td>0.173913</td>\n",
       "      <td>0.194783</td>\n",
       "      <td>0.386905</td>\n",
       "      <td>0.333333</td>\n",
       "      <td>0.5</td>\n",
       "    </tr>\n",
       "    <tr>\n",
       "      <th>159</th>\n",
       "      <td>1.0</td>\n",
       "      <td>0.729870</td>\n",
       "      <td>0.554348</td>\n",
       "      <td>0.863056</td>\n",
       "      <td>0.327381</td>\n",
       "      <td>0.416667</td>\n",
       "      <td>0.0</td>\n",
       "    </tr>\n",
       "  </tbody>\n",
       "</table>\n",
       "</div>"
      ],
      "text/plain": [
       "     cylinders  displacement  horsepower    weight  acceleration  model_year  \\\n",
       "73         1.0      0.615584    0.456522  0.704565      0.357143    0.166667   \n",
       "147        0.2      0.051948    0.157609  0.140346      0.446429    0.333333   \n",
       "375        0.2      0.090909    0.152174  0.104054      0.434524    1.000000   \n",
       "143        0.2      0.070130    0.173913  0.194783      0.386905    0.333333   \n",
       "159        1.0      0.729870    0.554348  0.863056      0.327381    0.416667   \n",
       "\n",
       "     origin  \n",
       "73      0.0  \n",
       "147     0.5  \n",
       "375     0.5  \n",
       "143     0.5  \n",
       "159     0.0  "
      ]
     },
     "execution_count": 46,
     "metadata": {},
     "output_type": "execute_result"
    }
   ],
   "source": [
    "X_train_scaled.head()"
   ]
  },
  {
   "cell_type": "markdown",
   "metadata": {},
   "source": [
    "### Target"
   ]
  },
  {
   "cell_type": "code",
   "execution_count": 47,
   "metadata": {},
   "outputs": [
    {
     "data": {
      "text/html": [
       "<div>\n",
       "<style>\n",
       "    .dataframe thead tr:only-child th {\n",
       "        text-align: right;\n",
       "    }\n",
       "\n",
       "    .dataframe thead th {\n",
       "        text-align: left;\n",
       "    }\n",
       "\n",
       "    .dataframe tbody tr th {\n",
       "        vertical-align: top;\n",
       "    }\n",
       "</style>\n",
       "<table border=\"1\" class=\"dataframe\">\n",
       "  <thead>\n",
       "    <tr style=\"text-align: right;\">\n",
       "      <th></th>\n",
       "      <th>mpg</th>\n",
       "    </tr>\n",
       "  </thead>\n",
       "  <tbody>\n",
       "    <tr>\n",
       "      <th>73</th>\n",
       "      <td>13.0</td>\n",
       "    </tr>\n",
       "    <tr>\n",
       "      <th>147</th>\n",
       "      <td>24.0</td>\n",
       "    </tr>\n",
       "    <tr>\n",
       "      <th>375</th>\n",
       "      <td>36.0</td>\n",
       "    </tr>\n",
       "    <tr>\n",
       "      <th>143</th>\n",
       "      <td>26.0</td>\n",
       "    </tr>\n",
       "    <tr>\n",
       "      <th>159</th>\n",
       "      <td>14.0</td>\n",
       "    </tr>\n",
       "  </tbody>\n",
       "</table>\n",
       "</div>"
      ],
      "text/plain": [
       "      mpg\n",
       "73   13.0\n",
       "147  24.0\n",
       "375  36.0\n",
       "143  26.0\n",
       "159  14.0"
      ]
     },
     "execution_count": 47,
     "metadata": {},
     "output_type": "execute_result"
    }
   ],
   "source": [
    "y_train.head()"
   ]
  },
  {
   "cell_type": "markdown",
   "metadata": {},
   "source": [
    "## Building the Models"
   ]
  },
  {
   "cell_type": "markdown",
   "metadata": {},
   "source": [
    "#### Selected Models\n",
    "1. Ordinary Least Squares\n",
    "2. Ridge Regression\n",
    "3. Lasso\n",
    "4. Support Vector Regression"
   ]
  },
  {
   "cell_type": "markdown",
   "metadata": {},
   "source": [
    "### Ordinary Least Squares"
   ]
  },
  {
   "cell_type": "markdown",
   "metadata": {},
   "source": [
    "According to [Skilearn](https://scikit-learn.org/stable/modules/linear_model.html#ordinary-least-squares), Ordinary Least Squares will attempt to fit a linear model that will minimize the residual sum of squares between the observed responses in the dataset, and the responses predicted by the linear approximation.\n",
    "\n"
   ]
  },
  {
   "cell_type": "markdown",
   "metadata": {},
   "source": [
    "We will build a series of k=5 cross validation models to find the most optimal parameters."
   ]
  },
  {
   "cell_type": "code",
   "execution_count": 48,
   "metadata": {},
   "outputs": [
    {
     "name": "stdout",
     "output_type": "stream",
     "text": [
      "r2 / variance: 0.620\n",
      "Best Parameter set: {'fit_intercept': False, 'copy_X': True, 'normalize': True}\n"
     ]
    }
   ],
   "source": [
    "model = LinearRegression()\n",
    "parameters = {'fit_intercept':[True, False],\n",
    "              'normalize':[True, False],\n",
    "              'copy_X':[True,False]}\n",
    "grid_ols = GridSearchCV(model, parameters, cv=5, scoring=\"r2\", iid=False)\n",
    "grid_ols.fit(cross_X, cross_y)\n",
    "print (\"r2 / variance: {0:.3f}\".format(grid_ols.best_score_))\n",
    "print (\"Best Parameter set: {}\".format(grid_ols.best_params_))"
   ]
  },
  {
   "cell_type": "markdown",
   "metadata": {},
   "source": [
    "Using the parameter set found above build the model that we will compare with the other models types."
   ]
  },
  {
   "cell_type": "code",
   "execution_count": 49,
   "metadata": {},
   "outputs": [
    {
     "name": "stdout",
     "output_type": "stream",
     "text": [
      "Coeffiecents: [  4.10158875   2.99158397  33.81626466 -37.08598689  32.43288018\n",
      "  14.84307694   5.59497003]\n",
      "r2 /variance for test: 0.5939\n",
      "Mean Squared Error: 24.162\n",
      "Residual sum of squares training set: 25.3397\n",
      "Residual sum of squares testing set: 24.1624\n"
     ]
    }
   ],
   "source": [
    "ols = LinearRegression(**grid_ols.best_params_)\n",
    "ols.fit(X_train_scaled, y_train.values.ravel())\n",
    "ols_pred_train = ols.predict(X_train_scaled)\n",
    "ols_pred_test = ols.predict(X_test_scaled)\n",
    "print (\"Coeffiecents: {}\".format(ols.coef_))\n",
    "print (\"r2 /variance for test: {0:.4f}\".format(r2_score(y_test, ols_pred_test)))\n",
    "print (\"Mean Squared Error: {:.3f}\".format(mean_squared_error(y_test, ols_pred_test)))\n",
    "print (\"Residual sum of squares training set: {0:.4f}\".format(np.mean((ols_pred_train-y_train.values.ravel())**2)))\n",
    "print (\"Residual sum of squares testing set: {0:.4f}\".format(np.mean((ols_pred_test-y_test.values.ravel())**2)))"
   ]
  },
  {
   "cell_type": "markdown",
   "metadata": {},
   "source": [
    "#### Residual Plot"
   ]
  },
  {
   "cell_type": "code",
   "execution_count": 50,
   "metadata": {},
   "outputs": [
    {
     "data": {
      "image/png": "[encoded data removed]",
      "text/plain": [
       "<matplotlib.figure.Figure at 0x8701960898>"
      ]
     },
     "metadata": {},
     "output_type": "display_data"
    }
   ],
   "source": [
    "train = plt.scatter(ols_pred_train,(ols_pred_train-y_train.values.ravel()),c='g',alpha=0.5)\n",
    "test = plt.scatter(ols_pred_test,(ols_pred_test-y_test.values.ravel()),c='b',alpha=0.5)\n",
    "plt.hlines(y=0, xmin=-10,xmax=10)\n",
    "plt.legend((train,test),('Training','Test'),loc='lower left')\n",
    "plt.title('OLS Residual Plots')\n",
    "plt.show()"
   ]
  },
  {
   "cell_type": "markdown",
   "metadata": {},
   "source": [
    "Plot Analysis - as you can see the residual plot has some shape to it which can indicate that a linear model might not be appropriate. This could describe why the rbf kernel proved to be the best parameter for the Support Vector Regression, which is found further down in the notebook."
   ]
  },
  {
   "cell_type": "markdown",
   "metadata": {},
   "source": [
    "### Kernel Ridge Regression"
   ]
  },
  {
   "cell_type": "markdown",
   "metadata": {},
   "source": [
    "According to [SciLearn](https://scikit-learn.org/stable/modules/kernel_ridge.html#kernel-ridge-regression), Kernel Ridge Regression is a method that combines Ridge Regression with the same kernel trick used by SVR to learn a non-linear function that best fits the data. The two methods differ in the loss function (ridge versus epslion-insensitive loss). KRR is usually faster that"
   ]
  },
  {
   "cell_type": "markdown",
   "metadata": {},
   "source": [
    "Accuracy scores for a k=5 Cross validation for a Ridge Regression Linear Model"
   ]
  },
  {
   "cell_type": "code",
   "execution_count": 51,
   "metadata": {},
   "outputs": [
    {
     "name": "stdout",
     "output_type": "stream",
     "text": [
      "r2 / variance: 0.6204\n",
      "Best Parameter set: {'gamma': 0.01, 'alpha': 0.001}\n"
     ]
    }
   ],
   "source": [
    "model = KernelRidge()\n",
    "parameters = {\n",
    "    'alpha': [.001, .01, .1, 1.0],\n",
    "    'gamma': np.logspace(-2, 2, 5)}\n",
    "grid_ridge = GridSearchCV(model, parameters, cv=5, scoring=\"r2\", iid=False)\n",
    "grid_ridge.fit(cross_X, cross_y)\n",
    "print (\"r2 / variance: {0:.4f}\".format(grid_ridge.best_score_))\n",
    "print (\"Best Parameter set: {}\".format(grid_ridge.best_params_))"
   ]
  },
  {
   "cell_type": "code",
   "execution_count": 52,
   "metadata": {},
   "outputs": [
    {
     "name": "stdout",
     "output_type": "stream",
     "text": [
      "r2 /variance for test: 0.5939\n",
      "Mean Squared Error: 24.162\n",
      "Residual sum of squares training set: 25.3397\n",
      "Residual sum of squares testing set: 24.1624\n"
     ]
    }
   ],
   "source": [
    "ridge = KernelRidge(**grid_ridge.best_params_)\n",
    "ridge.fit(X_train_scaled, y_train.values.ravel())\n",
    "ridge_pred_train = ols.predict(X_train_scaled)\n",
    "ridge_pred_test = ols.predict(X_test_scaled)\n",
    "print (\"r2 /variance for test: {0:.4f}\".format(r2_score(y_test, ridge_pred_test)))\n",
    "print (\"Mean Squared Error: {:.3f}\".format(mean_squared_error(y_test, ridge_pred_test)))\n",
    "print (\"Residual sum of squares training set: {0:.4f}\".format(np.mean((ridge_pred_train-y_train.values.ravel())**2)))\n",
    "print (\"Residual sum of squares testing set: {0:.4f}\".format(np.mean((ridge_pred_test-y_test.values.ravel())**2)))"
   ]
  },
  {
   "cell_type": "markdown",
   "metadata": {},
   "source": [
    "### Support Vector Regression"
   ]
  },
  {
   "cell_type": "markdown",
   "metadata": {},
   "source": [
    "Accoriding to [Scikit-learn](https://scikit-learn.org/stable/modules/svm.html#svm-regression), Support Vector Classification can be extended to regression as well. We ran the various types of SVR models: linear, rbf, and poly. "
   ]
  },
  {
   "cell_type": "code",
   "execution_count": 53,
   "metadata": {
    "scrolled": true
   },
   "outputs": [
    {
     "name": "stdout",
     "output_type": "stream",
     "text": [
      "r2 / variance for test: 0.835\n",
      "Mean Squared Error: 9.806\n"
     ]
    }
   ],
   "source": [
    "svm_lin = SVR(kernel='linear', C=1000)\n",
    "svm_lin.fit(X_train_scaled, y_train.values.ravel())\n",
    "svm_lin_pred_test = svm_lin.predict(X_test_scaled)\n",
    "print(\"r2 / variance for test: {0:.3f}\".format(r2_score(y_test, svm_lin_pred_test)))\n",
    "print (\"Mean Squared Error: {:.3f}\".format(mean_squared_error(y_test, svm_lin_pred_test)))"
   ]
  },
  {
   "cell_type": "code",
   "execution_count": 54,
   "metadata": {
    "scrolled": true
   },
   "outputs": [
    {
     "name": "stdout",
     "output_type": "stream",
     "text": [
      "r2 / variance for test: 0.936\n",
      "Mean Squared Error: 3.787\n"
     ]
    }
   ],
   "source": [
    "svm_rbf = SVR(kernel='rbf', C=1000, gamma='auto')\n",
    "svm_rbf.fit(X_train_scaled, y_train.values.ravel())\n",
    "svm_rbf_pred_test = svm_rbf.predict(X_test_scaled)\n",
    "print(\"r2 / variance for test: {0:.3f}\".format(r2_score(y_test, svm_rbf_pred_test)))\n",
    "print (\"Mean Squared Error: {:.3f}\".format(mean_squared_error(y_test, svm_rbf_pred_test)))"
   ]
  },
  {
   "cell_type": "code",
   "execution_count": 55,
   "metadata": {},
   "outputs": [
    {
     "name": "stdout",
     "output_type": "stream",
     "text": [
      "r2 / variance for test: 0.915\n",
      "Mean Squared Error: 5.035\n"
     ]
    }
   ],
   "source": [
    "svm_poly = SVR(kernel='poly', C=1000, gamma='auto')\n",
    "svm_poly.fit(X_train_scaled, y_train.values.ravel())\n",
    "svm_poly_pred_test = svm_poly.predict(X_test_scaled)\n",
    "print(\"r2 / variance for test: {0:.3f}\".format(r2_score(y_test, svm_poly_pred_test)))\n",
    "print (\"Mean Squared Error: {:.3f}\".format(mean_squared_error(y_test, svm_poly_pred_test)))"
   ]
  },
  {
   "cell_type": "markdown",
   "metadata": {},
   "source": [
    "#### SVR Grid Search:\n",
    "Rather than running each model instance indivually, you can use grid search to perform a cross-validation of the different parameters. Keep in mind this process can take a while as it is doing every combination of the parameters."
   ]
  },
  {
   "cell_type": "code",
   "execution_count": 56,
   "metadata": {
    "collapsed": true
   },
   "outputs": [],
   "source": [
    "param_grid = [\n",
    "  {'C': [1, 10, 100, 1000], 'gamma':['auto'], 'kernel': ['linear']},\n",
    "  {'C': [1, 10, 100, 1000], 'gamma':['auto'], 'kernel': ['rbf']},\n",
    "  {'C': [1, 10, 100, 1000], 'gamma':['auto'], 'kernel': ['poly']},\n",
    " ]"
   ]
  },
  {
   "cell_type": "code",
   "execution_count": 57,
   "metadata": {},
   "outputs": [
    {
     "name": "stdout",
     "output_type": "stream",
     "text": [
      "Best Model: {'gamma': 'auto', 'kernel': 'rbf', 'C': 1000}\n"
     ]
    }
   ],
   "source": [
    "svr = GridSearchCV(SVR(C=1),param_grid, cv=5)\n",
    "svr.fit(X_train_scaled, y_train.values.ravel())\n",
    "print('Best Model: %s' % svr.best_params_)"
   ]
  },
  {
   "cell_type": "markdown",
   "metadata": {},
   "source": [
    "## Conclusion\n",
    "\n",
    "Given the evidence above, we would use the SVR model with the RBF kernel. It produced around 93% accuracy. We used Grid Search to tune our hyper parameters. The Grid Search returns the best model which is conveinent. For instance a user could run the predict method if they wanted to test the model on different data ie. svr.predict(some new x data). Another popular cross validation tool is Randomized Search.\n",
    "\n",
    "In conclusion we used a Support Vector based model, performed data visualization, and used Cross-Validation to tune hyper parameters. "
   ]
  },
  {
   "cell_type": "markdown",
   "metadata": {
    "collapsed": true
   },
   "source": [
    "## Resources\n",
    "\n",
    "https://scikit-learn.org\n",
    "\n",
    "https://archive.ics.uci.edu/ml/datasets/auto+mpg\n"
   ]
  },
  {
   "cell_type": "code",
   "execution_count": null,
   "metadata": {
    "collapsed": true
   },
   "outputs": [],
   "source": []
  }
 ],
 "metadata": {
  "kernelspec": {
   "display_name": "Python 3",
   "language": "python",
   "name": "python3"
  },
  "language_info": {
   "codemirror_mode": {
    "name": "ipython",
    "version": 3
   },
   "file_extension": ".py",
   "mimetype": "text/x-python",
   "name": "python",
   "nbconvert_exporter": "python",
   "pygments_lexer": "ipython3",
   "version": "3.5.4"
  }
 },
 "nbformat": 4,
 "nbformat_minor": 2
}
